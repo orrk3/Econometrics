{
 "cells": [
  {
   "cell_type": "code",
   "execution_count": 46,
   "metadata": {},
   "outputs": [],
   "source": [
    "import pandas as pd\n",
    "import statsmodels.formula.api as sm\n",
    "import seaborn as sns"
   ]
  },
  {
   "cell_type": "markdown",
   "metadata": {},
   "source": [
    "### Import and Describe Data"
   ]
  },
  {
   "cell_type": "code",
   "execution_count": 5,
   "metadata": {},
   "outputs": [],
   "source": [
    "df = pd.read_stata(r'C:\\Users\\katel\\Desktop\\ML 484\\data\\RCT_Martinezetal.dta')"
   ]
  },
  {
   "cell_type": "code",
   "execution_count": 6,
   "metadata": {},
   "outputs": [
    {
     "data": {
      "text/html": [
       "<div>\n",
       "<style scoped>\n",
       "    .dataframe tbody tr th:only-of-type {\n",
       "        vertical-align: middle;\n",
       "    }\n",
       "\n",
       "    .dataframe tbody tr th {\n",
       "        vertical-align: top;\n",
       "    }\n",
       "\n",
       "    .dataframe thead th {\n",
       "        text-align: right;\n",
       "    }\n",
       "</style>\n",
       "<table border=\"1\" class=\"dataframe\">\n",
       "  <thead>\n",
       "    <tr style=\"text-align: right;\">\n",
       "      <th></th>\n",
       "      <th>folio2011</th>\n",
       "      <th>anho</th>\n",
       "      <th>TT</th>\n",
       "      <th>C</th>\n",
       "      <th>T1</th>\n",
       "      <th>T2</th>\n",
       "      <th>T3</th>\n",
       "      <th>ind_c2010</th>\n",
       "      <th>ind_c2011</th>\n",
       "      <th>ind_c2013</th>\n",
       "      <th>...</th>\n",
       "      <th>T1_independiente</th>\n",
       "      <th>T1_dependiente</th>\n",
       "      <th>T2_independiente</th>\n",
       "      <th>T2_dependiente</th>\n",
       "      <th>log_ht</th>\n",
       "      <th>log_ventas</th>\n",
       "      <th>log_ganancias</th>\n",
       "      <th>log_gananciasbueno</th>\n",
       "      <th>log_gananciasmalo</th>\n",
       "      <th>log_gananciasprom</th>\n",
       "    </tr>\n",
       "  </thead>\n",
       "  <tbody>\n",
       "    <tr>\n",
       "      <th>0</th>\n",
       "      <td>1025</td>\n",
       "      <td>2011</td>\n",
       "      <td>T2</td>\n",
       "      <td>0.0</td>\n",
       "      <td>0.0</td>\n",
       "      <td>1.0</td>\n",
       "      <td>1.0</td>\n",
       "      <td>1.0</td>\n",
       "      <td>1.0</td>\n",
       "      <td>1.0</td>\n",
       "      <td>...</td>\n",
       "      <td>0.0</td>\n",
       "      <td>0.0</td>\n",
       "      <td>1.0</td>\n",
       "      <td>0.0</td>\n",
       "      <td>2.197225</td>\n",
       "      <td>3.834297</td>\n",
       "      <td>3.834297</td>\n",
       "      <td>NaN</td>\n",
       "      <td>NaN</td>\n",
       "      <td>NaN</td>\n",
       "    </tr>\n",
       "    <tr>\n",
       "      <th>1</th>\n",
       "      <td>1025</td>\n",
       "      <td>2013</td>\n",
       "      <td>T2</td>\n",
       "      <td>0.0</td>\n",
       "      <td>0.0</td>\n",
       "      <td>1.0</td>\n",
       "      <td>1.0</td>\n",
       "      <td>1.0</td>\n",
       "      <td>1.0</td>\n",
       "      <td>1.0</td>\n",
       "      <td>...</td>\n",
       "      <td>0.0</td>\n",
       "      <td>0.0</td>\n",
       "      <td>1.0</td>\n",
       "      <td>0.0</td>\n",
       "      <td>3.931826</td>\n",
       "      <td>4.683425</td>\n",
       "      <td>3.834297</td>\n",
       "      <td>5.190545</td>\n",
       "      <td>4.502951</td>\n",
       "      <td>4.968792</td>\n",
       "    </tr>\n",
       "    <tr>\n",
       "      <th>2</th>\n",
       "      <td>1026</td>\n",
       "      <td>2011</td>\n",
       "      <td>T1</td>\n",
       "      <td>0.0</td>\n",
       "      <td>1.0</td>\n",
       "      <td>0.0</td>\n",
       "      <td>1.0</td>\n",
       "      <td>1.0</td>\n",
       "      <td>NaN</td>\n",
       "      <td>NaN</td>\n",
       "      <td>...</td>\n",
       "      <td>0.0</td>\n",
       "      <td>0.0</td>\n",
       "      <td>0.0</td>\n",
       "      <td>0.0</td>\n",
       "      <td>NaN</td>\n",
       "      <td>NaN</td>\n",
       "      <td>NaN</td>\n",
       "      <td>NaN</td>\n",
       "      <td>NaN</td>\n",
       "      <td>NaN</td>\n",
       "    </tr>\n",
       "    <tr>\n",
       "      <th>3</th>\n",
       "      <td>1026</td>\n",
       "      <td>2013</td>\n",
       "      <td>T1</td>\n",
       "      <td>0.0</td>\n",
       "      <td>1.0</td>\n",
       "      <td>0.0</td>\n",
       "      <td>1.0</td>\n",
       "      <td>1.0</td>\n",
       "      <td>NaN</td>\n",
       "      <td>NaN</td>\n",
       "      <td>...</td>\n",
       "      <td>0.0</td>\n",
       "      <td>0.0</td>\n",
       "      <td>0.0</td>\n",
       "      <td>0.0</td>\n",
       "      <td>NaN</td>\n",
       "      <td>NaN</td>\n",
       "      <td>NaN</td>\n",
       "      <td>NaN</td>\n",
       "      <td>NaN</td>\n",
       "      <td>NaN</td>\n",
       "    </tr>\n",
       "    <tr>\n",
       "      <th>4</th>\n",
       "      <td>1027</td>\n",
       "      <td>2011</td>\n",
       "      <td>T1</td>\n",
       "      <td>0.0</td>\n",
       "      <td>1.0</td>\n",
       "      <td>0.0</td>\n",
       "      <td>1.0</td>\n",
       "      <td>1.0</td>\n",
       "      <td>1.0</td>\n",
       "      <td>1.0</td>\n",
       "      <td>...</td>\n",
       "      <td>0.0</td>\n",
       "      <td>0.0</td>\n",
       "      <td>0.0</td>\n",
       "      <td>0.0</td>\n",
       "      <td>0.000000</td>\n",
       "      <td>0.000000</td>\n",
       "      <td>0.000000</td>\n",
       "      <td>NaN</td>\n",
       "      <td>NaN</td>\n",
       "      <td>NaN</td>\n",
       "    </tr>\n",
       "  </tbody>\n",
       "</table>\n",
       "<p>5 rows × 192 columns</p>\n",
       "</div>"
      ],
      "text/plain": [
       "   folio2011  anho  TT    C   T1   T2   T3  ind_c2010  ind_c2011  ind_c2013  \\\n",
       "0       1025  2011  T2  0.0  0.0  1.0  1.0        1.0        1.0        1.0   \n",
       "1       1025  2013  T2  0.0  0.0  1.0  1.0        1.0        1.0        1.0   \n",
       "2       1026  2011  T1  0.0  1.0  0.0  1.0        1.0        NaN        NaN   \n",
       "3       1026  2013  T1  0.0  1.0  0.0  1.0        1.0        NaN        NaN   \n",
       "4       1027  2011  T1  0.0  1.0  0.0  1.0        1.0        1.0        1.0   \n",
       "\n",
       "   ...  T1_independiente  T1_dependiente  T2_independiente  T2_dependiente  \\\n",
       "0  ...               0.0             0.0               1.0             0.0   \n",
       "1  ...               0.0             0.0               1.0             0.0   \n",
       "2  ...               0.0             0.0               0.0             0.0   \n",
       "3  ...               0.0             0.0               0.0             0.0   \n",
       "4  ...               0.0             0.0               0.0             0.0   \n",
       "\n",
       "     log_ht  log_ventas  log_ganancias  log_gananciasbueno  log_gananciasmalo  \\\n",
       "0  2.197225    3.834297       3.834297                 NaN                NaN   \n",
       "1  3.931826    4.683425       3.834297            5.190545           4.502951   \n",
       "2       NaN         NaN            NaN                 NaN                NaN   \n",
       "3       NaN         NaN            NaN                 NaN                NaN   \n",
       "4  0.000000    0.000000       0.000000                 NaN                NaN   \n",
       "\n",
       "   log_gananciasprom  \n",
       "0                NaN  \n",
       "1           4.968792  \n",
       "2                NaN  \n",
       "3                NaN  \n",
       "4                NaN  \n",
       "\n",
       "[5 rows x 192 columns]"
      ]
     },
     "execution_count": 6,
     "metadata": {},
     "output_type": "execute_result"
    }
   ],
   "source": [
    "df.head()"
   ]
  },
  {
   "cell_type": "code",
   "execution_count": 7,
   "metadata": {},
   "outputs": [
    {
     "data": {
      "text/plain": [
       "(3896, 192)"
      ]
     },
     "execution_count": 7,
     "metadata": {},
     "output_type": "execute_result"
    }
   ],
   "source": [
    "df.shape"
   ]
  },
  {
   "cell_type": "code",
   "execution_count": 8,
   "metadata": {},
   "outputs": [
    {
     "data": {
      "text/plain": [
       "(1948, 192)"
      ]
     },
     "execution_count": 8,
     "metadata": {},
     "output_type": "execute_result"
    }
   ],
   "source": [
    "df=df.query('anho == 2011')\n",
    "df.shape"
   ]
  },
  {
   "cell_type": "code",
   "execution_count": 24,
   "metadata": {},
   "outputs": [
    {
     "data": {
      "text/html": [
       "<div>\n",
       "<style scoped>\n",
       "    .dataframe tbody tr th:only-of-type {\n",
       "        vertical-align: middle;\n",
       "    }\n",
       "\n",
       "    .dataframe tbody tr th {\n",
       "        vertical-align: top;\n",
       "    }\n",
       "\n",
       "    .dataframe thead th {\n",
       "        text-align: right;\n",
       "    }\n",
       "</style>\n",
       "<table border=\"1\" class=\"dataframe\">\n",
       "  <thead>\n",
       "    <tr style=\"text-align: right;\">\n",
       "      <th></th>\n",
       "      <th>T1</th>\n",
       "      <th>T2</th>\n",
       "      <th>T3</th>\n",
       "      <th>sexo2010</th>\n",
       "      <th>edad2010</th>\n",
       "      <th>basica2010</th>\n",
       "      <th>trabaja_base</th>\n",
       "      <th>dependiente_base</th>\n",
       "      <th>indep_indep</th>\n",
       "    </tr>\n",
       "  </thead>\n",
       "  <tbody>\n",
       "    <tr>\n",
       "      <th>0</th>\n",
       "      <td>0.0</td>\n",
       "      <td>1.0</td>\n",
       "      <td>1.0</td>\n",
       "      <td>mujer</td>\n",
       "      <td>59.0</td>\n",
       "      <td>0.0</td>\n",
       "      <td>1.0</td>\n",
       "      <td>0.0</td>\n",
       "      <td>1.0</td>\n",
       "    </tr>\n",
       "    <tr>\n",
       "      <th>2</th>\n",
       "      <td>1.0</td>\n",
       "      <td>0.0</td>\n",
       "      <td>1.0</td>\n",
       "      <td>mujer</td>\n",
       "      <td>59.0</td>\n",
       "      <td>1.0</td>\n",
       "      <td>0.0</td>\n",
       "      <td>0.0</td>\n",
       "      <td>NaN</td>\n",
       "    </tr>\n",
       "    <tr>\n",
       "      <th>4</th>\n",
       "      <td>1.0</td>\n",
       "      <td>0.0</td>\n",
       "      <td>1.0</td>\n",
       "      <td>mujer</td>\n",
       "      <td>52.0</td>\n",
       "      <td>1.0</td>\n",
       "      <td>0.0</td>\n",
       "      <td>0.0</td>\n",
       "      <td>0.0</td>\n",
       "    </tr>\n",
       "    <tr>\n",
       "      <th>6</th>\n",
       "      <td>0.0</td>\n",
       "      <td>1.0</td>\n",
       "      <td>1.0</td>\n",
       "      <td>hombre</td>\n",
       "      <td>47.0</td>\n",
       "      <td>0.0</td>\n",
       "      <td>1.0</td>\n",
       "      <td>0.0</td>\n",
       "      <td>1.0</td>\n",
       "    </tr>\n",
       "    <tr>\n",
       "      <th>8</th>\n",
       "      <td>0.0</td>\n",
       "      <td>0.0</td>\n",
       "      <td>0.0</td>\n",
       "      <td>mujer</td>\n",
       "      <td>41.0</td>\n",
       "      <td>1.0</td>\n",
       "      <td>0.0</td>\n",
       "      <td>0.0</td>\n",
       "      <td>0.0</td>\n",
       "    </tr>\n",
       "  </tbody>\n",
       "</table>\n",
       "</div>"
      ],
      "text/plain": [
       "    T1   T2   T3 sexo2010  edad2010  basica2010  trabaja_base  \\\n",
       "0  0.0  1.0  1.0    mujer      59.0         0.0           1.0   \n",
       "2  1.0  0.0  1.0    mujer      59.0         1.0           0.0   \n",
       "4  1.0  0.0  1.0    mujer      52.0         1.0           0.0   \n",
       "6  0.0  1.0  1.0   hombre      47.0         0.0           1.0   \n",
       "8  0.0  0.0  0.0    mujer      41.0         1.0           0.0   \n",
       "\n",
       "   dependiente_base  indep_indep  \n",
       "0               0.0          1.0  \n",
       "2               0.0          NaN  \n",
       "4               0.0          0.0  \n",
       "6               0.0          1.0  \n",
       "8               0.0          0.0  "
      ]
     },
     "execution_count": 24,
     "metadata": {},
     "output_type": "execute_result"
    }
   ],
   "source": [
    "df = df[['T1','T2','T3','sexo2010','edad2010','basica2010','trabaja_base','dependiente_base','indep_indep']]\n",
    "df.head()"
   ]
  },
  {
   "cell_type": "code",
   "execution_count": 10,
   "metadata": {},
   "outputs": [
    {
     "data": {
      "text/plain": [
       "T1                   float32\n",
       "T2                   float32\n",
       "T3                   float32\n",
       "sexo2010            category\n",
       "edad2010             float32\n",
       "basica2010           float32\n",
       "trabaja_base         float32\n",
       "dependiente_base     float32\n",
       "indep_indep          float32\n",
       "dtype: object"
      ]
     },
     "execution_count": 10,
     "metadata": {},
     "output_type": "execute_result"
    }
   ],
   "source": [
    "df.dtypes"
   ]
  },
  {
   "cell_type": "code",
   "execution_count": 55,
   "metadata": {},
   "outputs": [],
   "source": [
    "df['sex'] = pd.factorize(df.sexo2010)[0]"
   ]
  },
  {
   "cell_type": "code",
   "execution_count": 28,
   "metadata": {},
   "outputs": [
    {
     "data": {
      "text/html": [
       "<div>\n",
       "<style scoped>\n",
       "    .dataframe tbody tr th:only-of-type {\n",
       "        vertical-align: middle;\n",
       "    }\n",
       "\n",
       "    .dataframe tbody tr th {\n",
       "        vertical-align: top;\n",
       "    }\n",
       "\n",
       "    .dataframe thead th {\n",
       "        text-align: right;\n",
       "    }\n",
       "</style>\n",
       "<table border=\"1\" class=\"dataframe\">\n",
       "  <thead>\n",
       "    <tr style=\"text-align: right;\">\n",
       "      <th></th>\n",
       "      <th>T1</th>\n",
       "      <th>T2</th>\n",
       "      <th>T3</th>\n",
       "      <th>edad2010</th>\n",
       "      <th>basica2010</th>\n",
       "      <th>trabaja_base</th>\n",
       "      <th>dependiente_base</th>\n",
       "      <th>indep_indep</th>\n",
       "      <th>sex</th>\n",
       "    </tr>\n",
       "  </thead>\n",
       "  <tbody>\n",
       "    <tr>\n",
       "      <th>count</th>\n",
       "      <td>1948.000000</td>\n",
       "      <td>1948.000000</td>\n",
       "      <td>1948.000000</td>\n",
       "      <td>1839.000000</td>\n",
       "      <td>1836.000000</td>\n",
       "      <td>1829.000000</td>\n",
       "      <td>1829.000000</td>\n",
       "      <td>1389.000000</td>\n",
       "      <td>1948.000000</td>\n",
       "    </tr>\n",
       "    <tr>\n",
       "      <th>mean</th>\n",
       "      <td>0.353696</td>\n",
       "      <td>0.355749</td>\n",
       "      <td>0.709446</td>\n",
       "      <td>35.923328</td>\n",
       "      <td>0.315359</td>\n",
       "      <td>0.655549</td>\n",
       "      <td>0.177146</td>\n",
       "      <td>0.339093</td>\n",
       "      <td>0.010780</td>\n",
       "    </tr>\n",
       "    <tr>\n",
       "      <th>std</th>\n",
       "      <td>0.478235</td>\n",
       "      <td>0.478863</td>\n",
       "      <td>0.454134</td>\n",
       "      <td>10.895293</td>\n",
       "      <td>0.464787</td>\n",
       "      <td>0.475323</td>\n",
       "      <td>0.381900</td>\n",
       "      <td>0.473574</td>\n",
       "      <td>0.350195</td>\n",
       "    </tr>\n",
       "    <tr>\n",
       "      <th>min</th>\n",
       "      <td>0.000000</td>\n",
       "      <td>0.000000</td>\n",
       "      <td>0.000000</td>\n",
       "      <td>18.000000</td>\n",
       "      <td>0.000000</td>\n",
       "      <td>0.000000</td>\n",
       "      <td>0.000000</td>\n",
       "      <td>0.000000</td>\n",
       "      <td>-1.000000</td>\n",
       "    </tr>\n",
       "    <tr>\n",
       "      <th>25%</th>\n",
       "      <td>0.000000</td>\n",
       "      <td>0.000000</td>\n",
       "      <td>0.000000</td>\n",
       "      <td>27.000000</td>\n",
       "      <td>0.000000</td>\n",
       "      <td>0.000000</td>\n",
       "      <td>0.000000</td>\n",
       "      <td>0.000000</td>\n",
       "      <td>0.000000</td>\n",
       "    </tr>\n",
       "    <tr>\n",
       "      <th>50%</th>\n",
       "      <td>0.000000</td>\n",
       "      <td>0.000000</td>\n",
       "      <td>1.000000</td>\n",
       "      <td>35.000000</td>\n",
       "      <td>0.000000</td>\n",
       "      <td>1.000000</td>\n",
       "      <td>0.000000</td>\n",
       "      <td>0.000000</td>\n",
       "      <td>0.000000</td>\n",
       "    </tr>\n",
       "    <tr>\n",
       "      <th>75%</th>\n",
       "      <td>1.000000</td>\n",
       "      <td>1.000000</td>\n",
       "      <td>1.000000</td>\n",
       "      <td>43.000000</td>\n",
       "      <td>1.000000</td>\n",
       "      <td>1.000000</td>\n",
       "      <td>0.000000</td>\n",
       "      <td>1.000000</td>\n",
       "      <td>0.000000</td>\n",
       "    </tr>\n",
       "    <tr>\n",
       "      <th>max</th>\n",
       "      <td>1.000000</td>\n",
       "      <td>1.000000</td>\n",
       "      <td>1.000000</td>\n",
       "      <td>79.000000</td>\n",
       "      <td>1.000000</td>\n",
       "      <td>1.000000</td>\n",
       "      <td>1.000000</td>\n",
       "      <td>1.000000</td>\n",
       "      <td>1.000000</td>\n",
       "    </tr>\n",
       "  </tbody>\n",
       "</table>\n",
       "</div>"
      ],
      "text/plain": [
       "                T1           T2           T3     edad2010   basica2010  \\\n",
       "count  1948.000000  1948.000000  1948.000000  1839.000000  1836.000000   \n",
       "mean      0.353696     0.355749     0.709446    35.923328     0.315359   \n",
       "std       0.478235     0.478863     0.454134    10.895293     0.464787   \n",
       "min       0.000000     0.000000     0.000000    18.000000     0.000000   \n",
       "25%       0.000000     0.000000     0.000000    27.000000     0.000000   \n",
       "50%       0.000000     0.000000     1.000000    35.000000     0.000000   \n",
       "75%       1.000000     1.000000     1.000000    43.000000     1.000000   \n",
       "max       1.000000     1.000000     1.000000    79.000000     1.000000   \n",
       "\n",
       "       trabaja_base  dependiente_base  indep_indep          sex  \n",
       "count   1829.000000       1829.000000  1389.000000  1948.000000  \n",
       "mean       0.655549          0.177146     0.339093     0.010780  \n",
       "std        0.475323          0.381900     0.473574     0.350195  \n",
       "min        0.000000          0.000000     0.000000    -1.000000  \n",
       "25%        0.000000          0.000000     0.000000     0.000000  \n",
       "50%        1.000000          0.000000     0.000000     0.000000  \n",
       "75%        1.000000          0.000000     1.000000     0.000000  \n",
       "max        1.000000          1.000000     1.000000     1.000000  "
      ]
     },
     "execution_count": 28,
     "metadata": {},
     "output_type": "execute_result"
    }
   ],
   "source": [
    "df.describe()"
   ]
  },
  {
   "cell_type": "code",
   "execution_count": 29,
   "metadata": {},
   "outputs": [
    {
     "name": "stdout",
     "output_type": "stream",
     "text": [
      "Dimensions of data (1948, 10)\n",
      "T1                    0\n",
      "T2                    0\n",
      "T3                    0\n",
      "sexo2010            109\n",
      "edad2010            109\n",
      "basica2010          112\n",
      "trabaja_base        119\n",
      "dependiente_base    119\n",
      "indep_indep         559\n",
      "sex                   0\n",
      "dtype: int64\n"
     ]
    }
   ],
   "source": [
    "print(\"Dimensions of data\",df.shape)\n",
    "print(df.isna().sum())"
   ]
  },
  {
   "cell_type": "markdown",
   "metadata": {},
   "source": [
    "Treatment is like 3x the size of the control?"
   ]
  },
  {
   "cell_type": "code",
   "execution_count": 30,
   "metadata": {},
   "outputs": [
    {
     "name": "stdout",
     "output_type": "stream",
     "text": [
      "Dimensions of treatment matrix: (1382, 10)\n",
      "T1                    0\n",
      "T2                    0\n",
      "T3                    0\n",
      "sexo2010             75\n",
      "edad2010             75\n",
      "basica2010           78\n",
      "trabaja_base         80\n",
      "dependiente_base     80\n",
      "indep_indep         387\n",
      "sex                   0\n",
      "dtype: int64\n"
     ]
    }
   ],
   "source": [
    "treat = df.query('T3==1')\n",
    "print(\"Dimensions of treatment matrix:\",treat.shape)\n",
    "print(treat.isna().sum())"
   ]
  },
  {
   "cell_type": "code",
   "execution_count": 31,
   "metadata": {
    "scrolled": true
   },
   "outputs": [
    {
     "name": "stdout",
     "output_type": "stream",
     "text": [
      "Dimensions of control matrix: (566, 10)\n",
      "T1                    0\n",
      "T2                    0\n",
      "T3                    0\n",
      "sexo2010             34\n",
      "edad2010             34\n",
      "basica2010           34\n",
      "trabaja_base         39\n",
      "dependiente_base     39\n",
      "indep_indep         172\n",
      "sex                   0\n",
      "dtype: int64\n"
     ]
    }
   ],
   "source": [
    "control = df.query('T3==0')\n",
    "print(\"Dimensions of control matrix:\", control.shape)\n",
    "print(control.isna().sum())"
   ]
  },
  {
   "cell_type": "markdown",
   "metadata": {},
   "source": [
    "## Performing T-test"
   ]
  },
  {
   "cell_type": "markdown",
   "metadata": {},
   "source": [
    "We take a look at the data to better understand our underlying parameters for t-tests.  Because most data is binomial in this data set, we will perform proportion tests for all variables of interest (except edad2010) comparing treatment and control groups. For edad2010 we perform a simple t test."
   ]
  },
  {
   "cell_type": "code",
   "execution_count": 32,
   "metadata": {},
   "outputs": [
    {
     "data": {
      "text/plain": [
       "<seaborn.axisgrid.PairGrid at 0x1f2d02741f0>"
      ]
     },
     "execution_count": 32,
     "metadata": {},
     "output_type": "execute_result"
    },
    {
     "data": {
      "image/png": "[encoded data removed]",
      "text/plain": [
       "<Figure size 1620x1620 with 90 Axes>"
      ]
     },
     "metadata": {
      "needs_background": "light"
     },
     "output_type": "display_data"
    }
   ],
   "source": [
    "sns.pairplot(df)"
   ]
  },
  {
   "cell_type": "code",
   "execution_count": 41,
   "metadata": {},
   "outputs": [
    {
     "data": {
      "text/plain": [
       "[(0.6386874384237765, 0.5231060353558704, 1834.0),\n",
       " (0.3773210937217209, 0.7059788220942236, 1827.0),\n",
       " (0.8592081764793471, 0.39033839023789485, 1827.0),\n",
       " (0.2994190169983882, 0.7646523286188076, 1946.0)]"
      ]
     },
     "execution_count": 41,
     "metadata": {},
     "output_type": "execute_result"
    }
   ],
   "source": [
    "cols=['basica2010', 'trabaja_base','dependiente_base', 'sex']\n",
    "results = []\n",
    "for i in cols:\n",
    "    results.append(sm.stats.ttest_ind(treat[i].dropna(), control[i].dropna())) #Just drop na?\n",
    "results\n",
    "    "
   ]
  },
  {
   "cell_type": "code",
   "execution_count": 37,
   "metadata": {},
   "outputs": [
    {
     "data": {
      "text/plain": [
       "(0.633394397825513, 0.5264761224652128)"
      ]
     },
     "execution_count": 37,
     "metadata": {},
     "output_type": "execute_result"
    }
   ],
   "source": [
    "sm.stats.ztest(treat[\"edad2010\"].dropna(), control[\"edad2010\"].dropna(),alternative='two-sided') #this isn't a normal dist?"
   ]
  },
  {
   "cell_type": "markdown",
   "metadata": {},
   "source": [
    "### Regress employment on treatment for both periods"
   ]
  },
  {
   "cell_type": "code",
   "execution_count": 49,
   "metadata": {},
   "outputs": [],
   "source": [
    "reg = sm.ols(formula=\"df['indep_indep'] ~ df['T3']\", data=df).fit()"
   ]
  },
  {
   "cell_type": "code",
   "execution_count": 50,
   "metadata": {},
   "outputs": [
    {
     "name": "stdout",
     "output_type": "stream",
     "text": [
      "                            OLS Regression Results                            \n",
      "==============================================================================\n",
      "Dep. Variable:      df['indep_indep']   R-squared:                       0.016\n",
      "Model:                            OLS   Adj. R-squared:                  0.015\n",
      "Method:                 Least Squares   F-statistic:                     22.69\n",
      "Date:                Wed, 09 Sep 2020   Prob (F-statistic):           2.11e-06\n",
      "Time:                        09:59:03   Log-Likelihood:                -920.93\n",
      "No. Observations:                1389   AIC:                             1846.\n",
      "Df Residuals:                    1387   BIC:                             1856.\n",
      "Df Model:                           1                                         \n",
      "Covariance Type:            nonrobust                                         \n",
      "==============================================================================\n",
      "                 coef    std err          t      P>|t|      [0.025      0.975]\n",
      "------------------------------------------------------------------------------\n",
      "Intercept      0.2437      0.024     10.292      0.000       0.197       0.290\n",
      "df['T3']       0.1332      0.028      4.763      0.000       0.078       0.188\n",
      "==============================================================================\n",
      "Omnibus:                     9654.463   Durbin-Watson:                   2.002\n",
      "Prob(Omnibus):                  0.000   Jarque-Bera (JB):              230.191\n",
      "Skew:                           0.659   Prob(JB):                     1.03e-50\n",
      "Kurtosis:                       1.503   Cond. No.                         3.52\n",
      "==============================================================================\n",
      "\n",
      "Warnings:\n",
      "[1] Standard Errors assume that the covariance matrix of the errors is correctly specified.\n"
     ]
    }
   ],
   "source": [
    "print(reg.summary())"
   ]
  },
  {
   "cell_type": "code",
   "execution_count": 52,
   "metadata": {},
   "outputs": [
    {
     "data": {
      "text/plain": [
       "375.0"
      ]
     },
     "execution_count": 52,
     "metadata": {},
     "output_type": "execute_result"
    }
   ],
   "source": [
    "treat['indep_indep'].sum()"
   ]
  }
 ],
 "metadata": {
  "kernelspec": {
   "display_name": "Python 3",
   "language": "python",
   "name": "python3"
  },
  "language_info": {
   "codemirror_mode": {
    "name": "ipython",
    "version": 3
   },
   "file_extension": ".py",
   "mimetype": "text/x-python",
   "name": "python",
   "nbconvert_exporter": "python",
   "pygments_lexer": "ipython3",
   "version": "3.8.3"
  }
 },
 "nbformat": 4,
 "nbformat_minor": 4
}
